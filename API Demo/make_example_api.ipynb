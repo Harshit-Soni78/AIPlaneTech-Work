{
 "cells": [
  {
   "cell_type": "code",
   "execution_count": 1,
   "id": "b0a8b5bd",
   "metadata": {},
   "outputs": [],
   "source": [
    "from flask import Flask, jsonify, request"
   ]
  },
  {
   "cell_type": "code",
   "execution_count": 2,
   "id": "31ab215d",
   "metadata": {},
   "outputs": [],
   "source": [
    "app = Flask(__name__)\n",
    "\n",
    "# Sample data (in-memory storage)\n",
    "users = [\n",
    "    {\"id\": 1, \"name\": \"Alice\"},\n",
    "    {\"id\": 2, \"name\": \"Bob\"}\n",
    "]"
   ]
  },
  {
   "cell_type": "code",
   "execution_count": 3,
   "id": "b17c2c9f",
   "metadata": {},
   "outputs": [],
   "source": [
    "# GET: Retrieve all users\n",
    "@app.route('/users', methods=['GET'])\n",
    "def get_users():\n",
    "    return jsonify(users)\n",
    "\n",
    "# POST: Add a new user\n",
    "@app.route('/users', methods=['POST'])\n",
    "def add_user():\n",
    "    data = request.get_json()\n",
    "    new_user = {\"id\": len(users) + 1, \"name\": data['name']}\n",
    "    users.append(new_user)\n",
    "    return jsonify(new_user), 201\n",
    "\n",
    "# PUT: Update user details\n",
    "@app.route('/users/<int:user_id>', methods=['PUT'])\n",
    "def update_user(user_id):\n",
    "    data = request.get_json()\n",
    "    for user in users:\n",
    "        if user[\"id\"] == user_id:\n",
    "            user[\"name\"] = data[\"name\"]\n",
    "            return jsonify(user)\n",
    "    return jsonify({\"error\": \"User not found\"}), 404\n",
    "\n",
    "# DELETE: Remove a user\n",
    "@app.route('/users/<int:user_id>', methods=['DELETE'])\n",
    "def delete_user(user_id):\n",
    "    global users\n",
    "    users = [user for user in users if user[\"id\"] != user_id]\n",
    "    return jsonify({\"message\": \"User deleted\"})"
   ]
  },
  {
   "cell_type": "code",
   "execution_count": 5,
   "id": "fbca2774",
   "metadata": {},
   "outputs": [
    {
     "name": "stdout",
     "output_type": "stream",
     "text": [
      " * Serving Flask app '__main__'\n",
      " * Debug mode: on\n"
     ]
    },
    {
     "name": "stderr",
     "output_type": "stream",
     "text": [
      "WARNING: This is a development server. Do not use it in a production deployment. Use a production WSGI server instead.\n",
      " * Running on http://127.0.0.1:5000\n",
      "Press CTRL+C to quit\n",
      " * Restarting with watchdog (windowsapi)\n"
     ]
    },
    {
     "ename": "SystemExit",
     "evalue": "1",
     "output_type": "error",
     "traceback": [
      "An exception has occurred, use %tb to see the full traceback.\n",
      "\u001b[1;31mSystemExit\u001b[0m\u001b[1;31m:\u001b[0m 1\n"
     ]
    }
   ],
   "source": [
    "# Run the server\n",
    "if __name__ == '__main__':\n",
    "    app.run(debug=True)"
   ]
  },
  {
   "cell_type": "code",
   "execution_count": null,
   "id": "173d222b",
   "metadata": {},
   "outputs": [],
   "source": []
  }
 ],
 "metadata": {
  "kernelspec": {
   "display_name": "Projects",
   "language": "python",
   "name": "python3"
  },
  "language_info": {
   "codemirror_mode": {
    "name": "ipython",
    "version": 3
   },
   "file_extension": ".py",
   "mimetype": "text/x-python",
   "name": "python",
   "nbconvert_exporter": "python",
   "pygments_lexer": "ipython3",
   "version": "3.12.8"
  }
 },
 "nbformat": 4,
 "nbformat_minor": 5
}
