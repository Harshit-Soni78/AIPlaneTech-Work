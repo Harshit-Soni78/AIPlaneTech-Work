{
 "cells": [
  {
   "cell_type": "code",
   "execution_count": 1,
   "id": "ba2a9a34",
   "metadata": {},
   "outputs": [
    {
     "name": "stdout",
     "output_type": "stream",
     "text": [
      "Requirement already satisfied: google-cloud-storage in c:\\users\\harsh\\appdata\\roaming\\python\\python312\\site-packages (3.1.0)\n",
      "Requirement already satisfied: google-auth<3.0dev,>=2.26.1 in c:\\users\\harsh\\appdata\\roaming\\python\\python312\\site-packages (from google-cloud-storage) (2.38.0)\n",
      "Requirement already satisfied: google-api-core<3.0.0dev,>=2.15.0 in c:\\users\\harsh\\appdata\\roaming\\python\\python312\\site-packages (from google-cloud-storage) (2.25.0)\n",
      "Requirement already satisfied: google-cloud-core<3.0dev,>=2.4.2 in c:\\users\\harsh\\appdata\\roaming\\python\\python312\\site-packages (from google-cloud-storage) (2.4.3)\n",
      "Requirement already satisfied: google-resumable-media>=2.7.2 in c:\\users\\harsh\\appdata\\roaming\\python\\python312\\site-packages (from google-cloud-storage) (2.7.2)\n",
      "Requirement already satisfied: requests<3.0.0dev,>=2.18.0 in c:\\users\\harsh\\.conda\\envs\\projects\\lib\\site-packages (from google-cloud-storage) (2.32.3)\n",
      "Requirement already satisfied: google-crc32c<2.0dev,>=1.0 in c:\\users\\harsh\\appdata\\roaming\\python\\python312\\site-packages (from google-cloud-storage) (1.7.1)\n",
      "Requirement already satisfied: googleapis-common-protos<2.0.0,>=1.56.2 in c:\\users\\harsh\\appdata\\roaming\\python\\python312\\site-packages (from google-api-core<3.0.0dev,>=2.15.0->google-cloud-storage) (1.68.0)\n",
      "Requirement already satisfied: protobuf!=3.20.0,!=3.20.1,!=4.21.0,!=4.21.1,!=4.21.2,!=4.21.3,!=4.21.4,!=4.21.5,<7.0.0,>=3.19.5 in c:\\users\\harsh\\appdata\\roaming\\python\\python312\\site-packages (from google-api-core<3.0.0dev,>=2.15.0->google-cloud-storage) (4.25.8)\n",
      "Requirement already satisfied: proto-plus<2.0.0,>=1.22.3 in c:\\users\\harsh\\appdata\\roaming\\python\\python312\\site-packages (from google-api-core<3.0.0dev,>=2.15.0->google-cloud-storage) (1.26.0)\n",
      "Requirement already satisfied: cachetools<6.0,>=2.0.0 in c:\\users\\harsh\\appdata\\roaming\\python\\python312\\site-packages (from google-auth<3.0dev,>=2.26.1->google-cloud-storage) (5.5.2)\n",
      "Requirement already satisfied: pyasn1-modules>=0.2.1 in c:\\users\\harsh\\appdata\\roaming\\python\\python312\\site-packages (from google-auth<3.0dev,>=2.26.1->google-cloud-storage) (0.4.1)\n",
      "Requirement already satisfied: rsa<5,>=3.1.4 in c:\\users\\harsh\\appdata\\roaming\\python\\python312\\site-packages (from google-auth<3.0dev,>=2.26.1->google-cloud-storage) (4.9)\n",
      "Requirement already satisfied: charset-normalizer<4,>=2 in c:\\users\\harsh\\.conda\\envs\\projects\\lib\\site-packages (from requests<3.0.0dev,>=2.18.0->google-cloud-storage) (3.4.1)\n",
      "Requirement already satisfied: idna<4,>=2.5 in c:\\users\\harsh\\.conda\\envs\\projects\\lib\\site-packages (from requests<3.0.0dev,>=2.18.0->google-cloud-storage) (3.10)\n",
      "Requirement already satisfied: urllib3<3,>=1.21.1 in c:\\users\\harsh\\.conda\\envs\\projects\\lib\\site-packages (from requests<3.0.0dev,>=2.18.0->google-cloud-storage) (2.3.0)\n",
      "Requirement already satisfied: certifi>=2017.4.17 in c:\\users\\harsh\\.conda\\envs\\projects\\lib\\site-packages (from requests<3.0.0dev,>=2.18.0->google-cloud-storage) (2025.1.31)\n",
      "Requirement already satisfied: pyasn1>=0.1.3 in c:\\users\\harsh\\appdata\\roaming\\python\\python312\\site-packages (from rsa<5,>=3.1.4->google-auth<3.0dev,>=2.26.1->google-cloud-storage) (0.6.1)\n",
      "Note: you may need to restart the kernel to use updated packages.\n"
     ]
    }
   ],
   "source": [
    "pip install google-cloud-storage"
   ]
  },
  {
   "cell_type": "code",
   "execution_count": 2,
   "id": "936b996f",
   "metadata": {},
   "outputs": [],
   "source": [
    "from google.cloud import storage"
   ]
  },
  {
   "cell_type": "code",
   "execution_count": 4,
   "id": "43fe7040",
   "metadata": {},
   "outputs": [],
   "source": [
    "# Path to your service account JSON file\n",
    "service_account_path = 'env/sodium-lodge-462105-a5-8bd3b06c45b2.json'"
   ]
  },
  {
   "cell_type": "code",
   "execution_count": 5,
   "id": "168cbc0d",
   "metadata": {},
   "outputs": [],
   "source": [
    "# Initialize the client\n",
    "client = storage.Client.from_service_account_json(service_account_path)"
   ]
  },
  {
   "cell_type": "code",
   "execution_count": 6,
   "id": "01f02683",
   "metadata": {},
   "outputs": [],
   "source": [
    "# Your bucket and blob (file)\n",
    "bucket_name = 'test-bucket-90'"
   ]
  },
  {
   "cell_type": "code",
   "execution_count": 10,
   "id": "836a275a",
   "metadata": {},
   "outputs": [
    {
     "name": "stderr",
     "output_type": "stream",
     "text": [
      "<>:1: SyntaxWarning: invalid escape sequence '\\H'\n",
      "<>:1: SyntaxWarning: invalid escape sequence '\\H'\n",
      "C:\\Users\\harsh\\AppData\\Local\\Temp\\ipykernel_12928\\2847877273.py:1: SyntaxWarning: invalid escape sequence '\\H'\n",
      "  file_name = 'Data\\Harshit.JPG'\n"
     ]
    }
   ],
   "source": [
    "file_name = 'Data\\Harshit.JPG'"
   ]
  },
  {
   "cell_type": "code",
   "execution_count": 11,
   "id": "3699ef24",
   "metadata": {},
   "outputs": [],
   "source": [
    "bucket = client.bucket(bucket_name)\n",
    "blob = bucket.blob(file_name)\n",
    "\n",
    "# Download file contents\n",
    "# data = blob.download_as_text()  # Or .download_as_string()\n",
    "# print(data)"
   ]
  },
  {
   "cell_type": "code",
   "execution_count": 12,
   "id": "b6881f0f",
   "metadata": {},
   "outputs": [],
   "source": [
    "# #  I want to save the data to a local file\n",
    "# local_file_path = 'downloaded_workshop_data.json'\n",
    "# with open(local_file_path, 'w') as local_file:\n",
    "#     local_file.write(data)\n",
    "# print(f\"Data downloaded and saved to {local_file_path}\")"
   ]
  },
  {
   "cell_type": "code",
   "execution_count": 13,
   "id": "f25c561f",
   "metadata": {},
   "outputs": [
    {
     "name": "stdout",
     "output_type": "stream",
     "text": [
      "File Data\\Harshit.JPG uploaded to Data\\Harshit.JPG in bucket test-bucket-90.\n"
     ]
    }
   ],
   "source": [
    "# Upload a local file to the bucket\n",
    "local_file_to_upload = file_name\n",
    "blob_upload = bucket.blob(local_file_to_upload)\n",
    "blob_upload.upload_from_filename(local_file_to_upload)\n",
    "print(f\"File {local_file_to_upload} uploaded to {blob_upload.name} in bucket {bucket_name}.\")"
   ]
  },
  {
   "cell_type": "code",
   "execution_count": 16,
   "id": "4f6806bc",
   "metadata": {},
   "outputs": [
    {
     "name": "stdout",
     "output_type": "stream",
     "text": [
      "Listing all blobs in the bucket:\n",
      "JSON-Data/\n",
      "JSON-Data/downloaded_workshop_data.json\n",
      "JSON-Data/workshop-data.json\n",
      "Videos/Anaconda setup new Env.mp4\n",
      "Videos/GitHub/01 setup-githubnew- account.mp4\n",
      "Videos/GitHub/02 download-git-bash.mp4\n",
      "Videos/GitHub/03 setup-new-repo-and-remote-setup.mp4\n",
      "Videos/GitHub/04 how-to-push-remote_to_online.mp4\n",
      "Videos/GitHub/05 Git-clone-demo.mp4\n",
      "Videos/Python/01 Python_install & add to path.mp4\n"
     ]
    }
   ],
   "source": [
    "# List all blobs in the bucket\n",
    "blobs = bucket.list_blobs()\n",
    "print(\"Listing all blobs in the bucket:\")\n",
    "for blob in blobs:\n",
    "    print(blob.name)"
   ]
  },
  {
   "cell_type": "code",
   "execution_count": 14,
   "id": "5e1d5d92",
   "metadata": {},
   "outputs": [
    {
     "name": "stdout",
     "output_type": "stream",
     "text": [
      "Blob JSON-Data/downloaded_workshop_data.json deleted from bucket aip-json-demo-01.\n"
     ]
    }
   ],
   "source": [
    "# Delete a blob from the bucket\n",
    "blob_to_delete = 'JSON-Data/' + local_file_to_upload\n",
    "blob_delete = bucket.blob(blob_to_delete)\n",
    "blob_delete.delete()\n",
    "print(f\"Blob {blob_to_delete} deleted from bucket {bucket_name}.\")"
   ]
  },
  {
   "cell_type": "code",
   "execution_count": 17,
   "id": "b5c3096f",
   "metadata": {},
   "outputs": [
    {
     "name": "stdout",
     "output_type": "stream",
     "text": [
      "Blob JSON-Data/downloaded_workshop_data.json still exists in bucket aip-json-demo-01.\n"
     ]
    }
   ],
   "source": [
    "# Check if the blob exists\n",
    "blob_exists = bucket.blob(blob_to_delete).exists()\n",
    "if blob_exists:\n",
    "    print(f\"Blob {blob_to_delete} still exists in bucket {bucket_name}.\")\n",
    "else:\n",
    "    print(f\"Blob {blob_to_delete} has been successfully deleted from bucket {bucket_name}.\")"
   ]
  },
  {
   "cell_type": "code",
   "execution_count": 18,
   "id": "9b70b148",
   "metadata": {},
   "outputs": [
    {
     "name": "stdout",
     "output_type": "stream",
     "text": [
      "Listing all buckets in the project:\n",
      "aip-json-demo-01\n"
     ]
    }
   ],
   "source": [
    "# List all buckets in the project\n",
    "buckets = client.list_buckets()\n",
    "print(\"Listing all buckets in the project:\")\n",
    "for bucket in buckets:\n",
    "    print(bucket.name)"
   ]
  },
  {
   "cell_type": "code",
   "execution_count": 20,
   "id": "9deacc32",
   "metadata": {},
   "outputs": [
    {
     "name": "stdout",
     "output_type": "stream",
     "text": [
      "JSON-Data/downloaded_workshop_data.json\n"
     ]
    }
   ],
   "source": [
    "print(f\"JSON-Data/{local_file_path}\")"
   ]
  },
  {
   "cell_type": "code",
   "execution_count": null,
   "id": "47e61bef",
   "metadata": {},
   "outputs": [],
   "source": [
    "# I want to edit the downloaded JSON data and upload it back\n",
    "import json\n",
    "# Load the downloaded JSON data\n",
    "with open(local_file_path, 'r') as local_file:\n",
    "    json_data = json.load(local_file)\n",
    "# Modify the JSON data (example: adding a new key-value pair)\n",
    "json_data['new_key'] = 'new_value'\n",
    "# Save the modified JSON data back to the local file\n",
    "with open(local_file_path, 'w') as local_file:\n",
    "    json.dump(json_data, local_file, indent=4)\n",
    "# Upload the modified JSON data back to the bucket\n",
    "blob_upload.upload_from_filename(local_file_path)\n",
    "print(f\"Modified file {local_file_path} uploaded back to {blob_upload.name} in bucket {bucket_name}.\")\n",
    "# Clean up: delete the local file after upload\n",
    "import os\n",
    "if os.path.exists(local_file_path):\n",
    "    os.remove(local_file_path)\n",
    "    print(f\"Local file {local_file_path} deleted after upload.\")\n",
    "# End of script"
   ]
  },
  {
   "cell_type": "code",
   "execution_count": 21,
   "id": "5ad7f611",
   "metadata": {},
   "outputs": [],
   "source": [
    "#  if I want to upload the entire directory to the bucket\n",
    "import os\n",
    "def upload_directory_to_bucket(bucket, source_dir, destination_dir):\n",
    "    '''Uploads an entire directory to a Google Cloud Storage bucket.'''\n",
    "    for root, dirs, files in os.walk(source_dir):\n",
    "        for file in files:\n",
    "            local_file_path = os.path.join(root, file)\n",
    "            relative_path = os.path.relpath(local_file_path, source_dir)\n",
    "            blob_path = os.path.join(destination_dir, relative_path).replace(\"\\\\\", \"/\")\n",
    "            blob = bucket.blob(blob_path)\n",
    "            blob.upload_from_filename(local_file_path)\n",
    "            print(f\"Uploaded {local_file_path} to {blob.name}\")"
   ]
  },
  {
   "cell_type": "code",
   "execution_count": null,
   "id": "30f366fd",
   "metadata": {},
   "outputs": [
    {
     "name": "stdout",
     "output_type": "stream",
     "text": [
      "All files from Basic Setup uploaded to Videos/ in bucket aip-json-demo-01.\n"
     ]
    }
   ],
   "source": [
    "# Specify the directory to upload\n",
    "source_directory = 'Basic Setup'  # Change this to your directory path\n",
    "destination_directory = 'Videos/'  # Change this to your desired destination in the bucket\n",
    "# upload_directory_to_bucket(bucket, source_directory, destination_directory)\n",
    "\n",
    "upload_directory_to_bucket(bucket, source_directory, destination_directory)\n",
    "print(f\"All files from {source_directory} uploaded to {destination_directory} in bucket {bucket_name}.\")"
   ]
  },
  {
   "cell_type": "code",
   "execution_count": null,
   "id": "850d6278",
   "metadata": {},
   "outputs": [
    {
     "name": "stdout",
     "output_type": "stream",
     "text": [
      "Listing all blobs in the directory Videos/:\n"
     ]
    }
   ],
   "source": [
    "# List all blobs in the destination directory\n",
    "print(f\"Listing all blobs in the directory {destination_directory}:\")\n",
    "blobs_in_directory = bucket.list_blobs(prefix=destination_directory + '/')\n",
    "for blob in blobs_in_directory:\n",
    "    print(blob.name)"
   ]
  },
  {
   "cell_type": "code",
   "execution_count": null,
   "id": "0000741d",
   "metadata": {},
   "outputs": [],
   "source": [
    "# Clean up: delete the uploaded directory blobs\n",
    "for blob in blobs_in_directory:\n",
    "    blob.delete()\n",
    "    print(f\"Blob {blob.name} deleted from bucket {bucket_name}.\")\n",
    "# End of script"
   ]
  }
 ],
 "metadata": {
  "kernelspec": {
   "display_name": "Projects",
   "language": "python",
   "name": "python3"
  },
  "language_info": {
   "codemirror_mode": {
    "name": "ipython",
    "version": 3
   },
   "file_extension": ".py",
   "mimetype": "text/x-python",
   "name": "python",
   "nbconvert_exporter": "python",
   "pygments_lexer": "ipython3",
   "version": "3.12.8"
  }
 },
 "nbformat": 4,
 "nbformat_minor": 5
}
