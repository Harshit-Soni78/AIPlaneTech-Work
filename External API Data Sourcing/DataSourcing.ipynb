{
 "cells": [
  {
   "cell_type": "code",
   "execution_count": 1,
   "id": "cad49edc",
   "metadata": {},
   "outputs": [],
   "source": [
    "# API : https://api.restful-api.dev/objects\n",
    "\n",
    "API = \"https://api.restful-api.dev/objects\""
   ]
  },
  {
   "cell_type": "code",
   "execution_count": 2,
   "id": "d52b3904",
   "metadata": {},
   "outputs": [],
   "source": [
    "# Make a function that takes API URL and returns the JSON response\n",
    "\n",
    "import requests\n",
    "def fetch_api_data(api_url):\n",
    "    \"\"\"\n",
    "    Fetches data from the given API URL and returns the JSON response.\n",
    "\n",
    "    :param api_url: str, The URL of the API endpoint.\n",
    "    :return: dict, The JSON response from the API.\n",
    "    \"\"\"\n",
    "    try:\n",
    "        response = requests.get(api_url)\n",
    "        response.raise_for_status()  # Raise an error for bad responses\n",
    "        return response.json()\n",
    "    except requests.exceptions.RequestException as e:\n",
    "        print(f\"An error occurred: {e}\")\n",
    "        return None"
   ]
  },
  {
   "cell_type": "code",
   "execution_count": 3,
   "id": "52abee92",
   "metadata": {},
   "outputs": [
    {
     "data": {
      "text/plain": [
       "[{'id': '1',\n",
       "  'name': 'Google Pixel 6 Pro',\n",
       "  'data': {'color': 'Cloudy White', 'capacity': '128 GB'}},\n",
       " {'id': '2', 'name': 'Apple iPhone 12 Mini, 256GB, Blue', 'data': None},\n",
       " {'id': '3',\n",
       "  'name': 'Apple iPhone 12 Pro Max',\n",
       "  'data': {'color': 'Cloudy White', 'capacity GB': 512}},\n",
       " {'id': '4',\n",
       "  'name': 'Apple iPhone 11, 64GB',\n",
       "  'data': {'price': 389.99, 'color': 'Purple'}},\n",
       " {'id': '5',\n",
       "  'name': 'Samsung Galaxy Z Fold2',\n",
       "  'data': {'price': 689.99, 'color': 'Brown'}},\n",
       " {'id': '6',\n",
       "  'name': 'Apple AirPods',\n",
       "  'data': {'generation': '3rd', 'price': 120}},\n",
       " {'id': '7',\n",
       "  'name': 'Apple MacBook Pro 16',\n",
       "  'data': {'year': 2019,\n",
       "   'price': 1849.99,\n",
       "   'CPU model': 'Intel Core i9',\n",
       "   'Hard disk size': '1 TB'}},\n",
       " {'id': '8',\n",
       "  'name': 'Apple Watch Series 8',\n",
       "  'data': {'Strap Colour': 'Elderberry', 'Case Size': '41mm'}},\n",
       " {'id': '9',\n",
       "  'name': 'Beats Studio3 Wireless',\n",
       "  'data': {'Color': 'Red',\n",
       "   'Description': 'High-performance wireless noise cancelling headphones'}},\n",
       " {'id': '10',\n",
       "  'name': 'Apple iPad Mini 5th Gen',\n",
       "  'data': {'Capacity': '64 GB', 'Screen size': 7.9}},\n",
       " {'id': '11',\n",
       "  'name': 'Apple iPad Mini 5th Gen',\n",
       "  'data': {'Capacity': '254 GB', 'Screen size': 7.9}},\n",
       " {'id': '12',\n",
       "  'name': 'Apple iPad Air',\n",
       "  'data': {'Generation': '4th', 'Price': '419.99', 'Capacity': '64 GB'}},\n",
       " {'id': '13',\n",
       "  'name': 'Apple iPad Air',\n",
       "  'data': {'Generation': '4th', 'Price': '519.99', 'Capacity': '256 GB'}}]"
      ]
     },
     "execution_count": 3,
     "metadata": {},
     "output_type": "execute_result"
    }
   ],
   "source": [
    "fetch_api_data(API)"
   ]
  },
  {
   "cell_type": "code",
   "execution_count": 4,
   "id": "c7db75a3",
   "metadata": {},
   "outputs": [],
   "source": [
    "# This function must handle basic authentication (e.g., API key)\n",
    "def fetch_api_data_with_auth(api_url, api_key):\n",
    "    \"\"\"\n",
    "    Fetches data from the given API URL with basic authentication and returns the JSON response.\n",
    "\n",
    "    :param api_url: str, The URL of the API endpoint.\n",
    "    :param api_key: str, The API key for authentication.\n",
    "    :return: dict, The JSON response from the API.\n",
    "    \"\"\"\n",
    "    headers = {\n",
    "        'Authorization': f'Bearer {api_key}'\n",
    "    }\n",
    "    \n",
    "    try:\n",
    "        response = requests.get(api_url, headers=headers)\n",
    "        response.raise_for_status()  # Raise an error for bad responses\n",
    "        return response.json()\n",
    "    except requests.exceptions.RequestException as e:\n",
    "        print(f\"An error occurred: {e}\")\n",
    "        return None\n",
    "\n",
    "# Example usage of the function with authentication\n",
    "# api_key = \"your_api_key_here\"\n",
    "# data = fetch_api_data_with_auth(API, api_key)\n",
    "# print(data)"
   ]
  },
  {
   "cell_type": "code",
   "execution_count": 5,
   "id": "3ff45c73",
   "metadata": {},
   "outputs": [
    {
     "name": "stdout",
     "output_type": "stream",
     "text": [
      "Data saved to api_data.json\n"
     ]
    }
   ],
   "source": [
    "#  Fetched data should be stored in a standard format (JSON or CSV) I am using Google cloud storage\n",
    "import json\n",
    "def save_data_to_json(data, filename):\n",
    "    \"\"\"\n",
    "    Saves the given data to a JSON file.\n",
    "\n",
    "    :param data: dict, The data to be saved.\n",
    "    :param filename: str, The name of the file where data will be saved.\n",
    "    \"\"\"\n",
    "    with open(filename, 'w') as json_file:\n",
    "        json.dump(data, json_file, indent=4)\n",
    "    print(f\"Data saved to {filename}\")\n",
    "\n",
    "# Example usage of saving data to JSON\n",
    "data = fetch_api_data(API)\n",
    "if data:\n",
    "    save_data_to_json(data, 'api_data.json')\n",
    "\n",
    "# Example usage of the function without authentication\n",
    "# data = fetch_api_data(API)\n",
    "# if data:\n",
    "#     save_data_to_json(data, 'api_data.json')"
   ]
  },
  {
   "cell_type": "code",
   "execution_count": 6,
   "id": "9418bca0",
   "metadata": {},
   "outputs": [],
   "source": [
    "# Now upload the JSON file to Google Cloud Storage\n",
    "from google.cloud import storage\n",
    "def upload_to_gcs(service_account_path, bucket_name, source_file_name, destination_blob_name):\n",
    "    \"\"\"\n",
    "    Uploads a file to Google Cloud Storage.\n",
    "\n",
    "    :param bucket_name: str, The name of the GCS bucket.\n",
    "    :param source_file_name: str, The local path to the file to upload.\n",
    "    :param destination_blob_name: str, The name of the blob in GCS.\n",
    "    \"\"\"\n",
    "    storage_client = storage.Client.from_service_account_json(service_account_path)\n",
    "    # storage_client = storage.Client()\n",
    "    bucket = storage_client.bucket(bucket_name)\n",
    "    blob = bucket.blob(destination_blob_name)\n",
    "\n",
    "    blob.upload_from_filename(source_file_name)\n",
    "    print(f\"File {source_file_name} uploaded to {destination_blob_name}.\")"
   ]
  },
  {
   "cell_type": "code",
   "execution_count": 7,
   "id": "9a9e874a",
   "metadata": {},
   "outputs": [
    {
     "name": "stdout",
     "output_type": "stream",
     "text": [
      "File api_data.json uploaded to data/api_data.json.\n"
     ]
    }
   ],
   "source": [
    "# Example usage of uploading to GCS\n",
    "service_account_path = 'env/sodium-lodge-462105-a5-8bd3b06c45b2.json'\n",
    "\n",
    "bucket_name = \"test-bucket-90\"\n",
    "source_file_name = \"api_data.json\"\n",
    "destination_blob_name = \"data/api_data.json\"\n",
    "\n",
    "upload_to_gcs(service_account_path, bucket_name, source_file_name, destination_blob_name)"
   ]
  },
  {
   "cell_type": "code",
   "execution_count": null,
   "id": "7d3b56f8",
   "metadata": {},
   "outputs": [],
   "source": []
  }
 ],
 "metadata": {
  "kernelspec": {
   "display_name": "Projects",
   "language": "python",
   "name": "python3"
  },
  "language_info": {
   "codemirror_mode": {
    "name": "ipython",
    "version": 3
   },
   "file_extension": ".py",
   "mimetype": "text/x-python",
   "name": "python",
   "nbconvert_exporter": "python",
   "pygments_lexer": "ipython3",
   "version": "3.12.8"
  }
 },
 "nbformat": 4,
 "nbformat_minor": 5
}
