{
 "cells": [
  {
   "cell_type": "code",
   "execution_count": null,
   "metadata": {},
   "outputs": [],
   "source": [
    "%pip install ultralytics"
   ]
  },
  {
   "cell_type": "code",
   "execution_count": 4,
   "metadata": {},
   "outputs": [
    {
     "name": "stdout",
     "output_type": "stream",
     "text": [
      "\" person \", \" bicycle \", \" car \", \" motorcycle \", \" airplane \", \" bus \", \" train \", \" truck \", \" boat \", \" traffic light \", \" fire hydrant \", \" stop sign \", \" parking meter \", \" bench \", \" bird \", \" cat \", \" dog \", \" horse \", \" sheep \", \" cow \", \" elephant \", \" bear \", \" zebra \", \" giraffe \", \" backpack \", \" umbrella \", \" handbag \", \" tie \", \" suitcase \", \" frisbee \", \" skis \", \" snowboard \", \" sports ball \", \" kite \", \" baseball bat \", \" baseball glove \", \" skateboard \", \" surfboard \", \" tennis racket \", \" bottle \", \" wine glass \", \" cup \", \" fork \", \" knife \", \" spoon \", \" bowl \", \" banana \", \" apple \", \" sandwich \", \" orange \", \" broccoli \", \" carrot \", \" hot dog \", \" pizza \", \" donut \", \" cake \", \" chair \", \" couch \", \" potted plant \", \" bed \", \" dining table \", \" toilet \", \" tv \", \" laptop \", \" mouse \", \" remote \", \" keyboard \", \" cell phone \", \" microwave \", \" oven \", \" toaster \", \" sink \", \" refrigerator \", \" book \", \" clock \", \" vase \", \" scissors \", \" teddy bear \", \" hair drier \", \" toothbrush \", "
     ]
    }
   ],
   "source": [
    "x = {0: 'person', 1: 'bicycle', 2: 'car', 3: 'motorcycle', 4: 'airplane', 5: 'bus', 6: 'train', 7: 'truck', 8: 'boat', 9: 'traffic light', 10: 'fire hydrant', 11: 'stop sign', 12: 'parking meter', 13: 'bench', 14: 'bird', 15: 'cat', 16: 'dog', 17: 'horse', 18: 'sheep', 19: 'cow', 20: 'elephant', 21: 'bear', 22: 'zebra', 23: 'giraffe', 24: 'backpack', 25: 'umbrella', 26: 'handbag', 27: 'tie', 28: 'suitcase', 29: 'frisbee', 30: 'skis', 31: 'snowboard', 32: 'sports ball', 33: 'kite', 34: 'baseball bat', 35: 'baseball glove', 36: 'skateboard', 37: 'surfboard', 38: 'tennis racket', 39: 'bottle', 40: 'wine glass', 41: 'cup', 42: 'fork', 43: 'knife', 44: 'spoon', 45: 'bowl', 46: 'banana', 47: 'apple', 48: 'sandwich', 49: 'orange', 50: 'broccoli', 51: 'carrot', 52: 'hot dog', 53: 'pizza', 54: 'donut', 55: 'cake', 56: 'chair', 57: 'couch', 58: 'potted plant', 59: 'bed', 60: 'dining table', 61: 'toilet', 62: 'tv', 63: 'laptop', 64: 'mouse', 65: 'remote', 66: 'keyboard', 67: 'cell phone', 68: 'microwave', 69: 'oven', 70: 'toaster', 71: 'sink', 72: 'refrigerator', 73: 'book', 74: 'clock', 75: 'vase', 76: 'scissors', 77: 'teddy bear', 78: 'hair drier', 79: 'toothbrush'}\n",
    "for keys in x:\n",
    "    print('\" ' + x[keys] + ' \"', end=\", \")\n",
    "\n",
    "\n",
    "# {\"person\", \"car\", \"bicycle\", \"bottle\"}"
   ]
  },
  {
   "cell_type": "code",
   "execution_count": 1,
   "metadata": {},
   "outputs": [
    {
     "name": "stdout",
     "output_type": "stream",
     "text": [
      "Creating new Ultralytics Settings v0.0.6 file  \n",
      "View Ultralytics Settings with 'yolo settings' or at 'C:\\Users\\LENOVO\\AppData\\Roaming\\Ultralytics\\settings.json'\n",
      "Update Settings with 'yolo settings key=value', i.e. 'yolo settings runs_dir=path/to/dir'. For help see https://docs.ultralytics.com/quickstart/#ultralytics-settings.\n"
     ]
    }
   ],
   "source": [
    "from ultralytics import YOLO"
   ]
  },
  {
   "cell_type": "code",
   "execution_count": null,
   "metadata": {},
   "outputs": [
    {
     "name": "stdout",
     "output_type": "stream",
     "text": [
      "\n",
      "image 1/1 C:\\Users\\LENOVO\\Downloads\\20250309_110339.jpg: 640x384 1 mouse, 1 keyboard, 413.7ms\n",
      "Speed: 2.4ms preprocess, 413.7ms inference, 0.7ms postprocess per image at shape (1, 3, 640, 384)\n"
     ]
    },
    {
     "data": {
      "text/plain": [
       "['mouse', 'keyboard']"
      ]
     },
     "execution_count": 15,
     "metadata": {},
     "output_type": "execute_result"
    }
   ],
   "source": [
    "from ultralytics import YOLO\n",
    "model = YOLO(r\"C:\\Users\\LENOVO\\Downloads\\yolov8x.pt\")\n",
    "\n",
    "# Perform inference on an image\n",
    "results = model(r\"C:\\Users\\LENOVO\\Downloads\\20250309_110339.jpg\")\n",
    "\n",
    "detected_objects = [results[0].names[int(cls)] for cls in results[0].boxes.cls]\n",
    "detected_objects"
   ]
  },
  {
   "cell_type": "code",
   "execution_count": 13,
   "metadata": {},
   "outputs": [
    {
     "name": "stdout",
     "output_type": "stream",
     "text": [
      "[ultralytics.engine.results.Results object with attributes:\n",
      "\n",
      "boxes: ultralytics.engine.results.Boxes object\n",
      "keypoints: None\n",
      "masks: None\n",
      "names: {0: 'person', 1: 'bicycle', 2: 'car', 3: 'motorcycle', 4: 'airplane', 5: 'bus', 6: 'train', 7: 'truck', 8: 'boat', 9: 'traffic light', 10: 'fire hydrant', 11: 'stop sign', 12: 'parking meter', 13: 'bench', 14: 'bird', 15: 'cat', 16: 'dog', 17: 'horse', 18: 'sheep', 19: 'cow', 20: 'elephant', 21: 'bear', 22: 'zebra', 23: 'giraffe', 24: 'backpack', 25: 'umbrella', 26: 'handbag', 27: 'tie', 28: 'suitcase', 29: 'frisbee', 30: 'skis', 31: 'snowboard', 32: 'sports ball', 33: 'kite', 34: 'baseball bat', 35: 'baseball glove', 36: 'skateboard', 37: 'surfboard', 38: 'tennis racket', 39: 'bottle', 40: 'wine glass', 41: 'cup', 42: 'fork', 43: 'knife', 44: 'spoon', 45: 'bowl', 46: 'banana', 47: 'apple', 48: 'sandwich', 49: 'orange', 50: 'broccoli', 51: 'carrot', 52: 'hot dog', 53: 'pizza', 54: 'donut', 55: 'cake', 56: 'chair', 57: 'couch', 58: 'potted plant', 59: 'bed', 60: 'dining table', 61: 'toilet', 62: 'tv', 63: 'laptop', 64: 'mouse', 65: 'remote', 66: 'keyboard', 67: 'cell phone', 68: 'microwave', 69: 'oven', 70: 'toaster', 71: 'sink', 72: 'refrigerator', 73: 'book', 74: 'clock', 75: 'vase', 76: 'scissors', 77: 'teddy bear', 78: 'hair drier', 79: 'toothbrush'}\n",
      "obb: None\n",
      "orig_img: array([[[150, 150, 150],\n",
      "        [150, 150, 150],\n",
      "        [150, 150, 150],\n",
      "        ...,\n",
      "        [236, 238, 239],\n",
      "        [233, 235, 236],\n",
      "        [230, 232, 233]],\n",
      "\n",
      "       [[150, 150, 150],\n",
      "        [150, 150, 150],\n",
      "        [150, 150, 150],\n",
      "        ...,\n",
      "        [236, 238, 239],\n",
      "        [234, 236, 237],\n",
      "        [232, 234, 235]],\n",
      "\n",
      "       [[150, 150, 150],\n",
      "        [150, 150, 150],\n",
      "        [150, 150, 150],\n",
      "        ...,\n",
      "        [235, 237, 238],\n",
      "        [234, 236, 237],\n",
      "        [233, 235, 236]],\n",
      "\n",
      "       ...,\n",
      "\n",
      "       [[ 13,  11,  11],\n",
      "        [ 14,  12,  12],\n",
      "        [ 13,  11,  11],\n",
      "        ...,\n",
      "        [228, 227, 229],\n",
      "        [228, 227, 229],\n",
      "        [228, 227, 229]],\n",
      "\n",
      "       [[ 10,   8,   8],\n",
      "        [ 14,  12,  12],\n",
      "        [ 13,  11,  11],\n",
      "        ...,\n",
      "        [228, 227, 229],\n",
      "        [228, 227, 229],\n",
      "        [228, 227, 229]],\n",
      "\n",
      "       [[  5,   3,   3],\n",
      "        [  8,   6,   6],\n",
      "        [  6,   4,   4],\n",
      "        ...,\n",
      "        [228, 227, 229],\n",
      "        [228, 227, 229],\n",
      "        [228, 227, 229]]], dtype=uint8)\n",
      "orig_shape: (4080, 2296)\n",
      "path: 'C:\\\\Users\\\\LENOVO\\\\Downloads\\\\20250309_110339.jpg'\n",
      "probs: None\n",
      "save_dir: 'runs\\\\detect\\\\predict'\n",
      "speed: {'preprocess': 2.2908999999344815, 'inference': 420.0657000001229, 'postprocess': 0.6966999999349355}]\n"
     ]
    }
   ],
   "source": [
    "type(results)\n",
    "print(results)"
   ]
  },
  {
   "cell_type": "code",
   "execution_count": null,
   "metadata": {},
   "outputs": [
    {
     "data": {
      "text/plain": [
       "['mouse', 'keyboard']"
      ]
     },
     "execution_count": 14,
     "metadata": {},
     "output_type": "execute_result"
    }
   ],
   "source": []
  },
  {
   "cell_type": "code",
   "execution_count": null,
   "metadata": {},
   "outputs": [],
   "source": [
    "# Load YOLOv8 model\n",
    "model = YOLO(r\"C:\\\\Users\\\\LENOVO\\\\Desktop\\\\New folder\\\\YoloWebFlask\\\\yolov8s.pt\")\n",
    "\n",
    "# Get class names from the model\n",
    "class_names = model.names\n",
    "\n",
    "# Define allowed classes for detection\n",
    "allowed_classes = {\" person \", \" bicycle \", \" car \", \" motorcycle \", \" bus \", \" train \", \" truck \", \" traffic light \", \" stop sign \", \" bench \", \" bird \", \" cat \", \" dog \", \" sheep \", \" backpack \", \" umbrella \", \" tie \", \" sports ball \", \" kite \", \" bottle \", \" cup \", \" fork \", \" knife \", \" spoon \", \" bowl \", \" banana \", \" apple \", \" sandwich \", \" chair \", \" couch \", \" potted plant \", \" laptop \", \" mouse \", \" keyboard \", \" cell phone \", \" book \", \" clock \", \" scissors \", \" teddy bear \", \" hair drier \", \" toothbrush \", \"pen\"}  # Modify this set with desired classes\n"
   ]
  }
 ],
 "metadata": {
  "kernelspec": {
   "display_name": "Python 3",
   "language": "python",
   "name": "python3"
  },
  "language_info": {
   "codemirror_mode": {
    "name": "ipython",
    "version": 3
   },
   "file_extension": ".py",
   "mimetype": "text/x-python",
   "name": "python",
   "nbconvert_exporter": "python",
   "pygments_lexer": "ipython3",
   "version": "3.12.7"
  }
 },
 "nbformat": 4,
 "nbformat_minor": 2
}
